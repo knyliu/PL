{
 "cells": [
  {
   "cell_type": "code",
   "execution_count": 2,
   "id": "ea79eebc",
   "metadata": {
    "scrolled": true
   },
   "outputs": [
    {
     "name": "stderr",
     "output_type": "stream",
     "text": [
      "[nltk_data] Downloading package stopwords to\n",
      "[nltk_data]     /Users/liuyangu/nltk_data...\n",
      "[nltk_data]   Package stopwords is already up-to-date!\n"
     ]
    },
    {
     "name": "stdout",
     "output_type": "stream",
     "text": [
      "Topic 1:\n",
      "static project view test create elements arrays data array file\n",
      "Topic 2:\n",
      "false number string html return true template specified value returns\n",
      "Topic 3:\n",
      "h1 distribution scipy plot matplotlib random np plt numpy import\n",
      "Topic 4:\n",
      "lastname add firstname item list tuple set items result example\n",
      "Topic 5:\n",
      "create tutorial django variable learn my_tennis_club exampleget py server python\n",
      "Topic 6:\n",
      "objects json 11 25 21 model 20 12 member 10\n",
      "Topic 7:\n",
      "index value methods function class string object number method use\n",
      "Topic 8:\n",
      "self 2020 thislist 60 12 cherry apple banana constants print\n",
      "Topic 9:\n",
      "df method members loop django list arr values np array\n",
      "Topic 10:\n",
      "learning statement sklearn check mysql function database import type data\n"
     ]
    }
   ],
   "source": [
    "import nltk\n",
    "nltk.download('stopwords')\n",
    "from nltk.corpus import stopwords\n",
    "from sklearn.feature_extraction.text import CountVectorizer\n",
    "from sklearn.decomposition import LatentDirichletAllocation\n",
    "\n",
    "with open('pythonTrainingData_w3schools.txt', 'r') as file:\n",
    "    documents = file.readlines()\n",
    "\n",
    "def preprocess_text(text):\n",
    "    tokens = nltk.word_tokenize(text)\n",
    "    tokens = [word for word in tokens if word not in stopwords.words('english')]\n",
    "    return ' '.join(tokens)\n",
    "\n",
    "processed_docs = [preprocess_text(doc) for doc in documents]\n",
    "\n",
    "vectorizer = CountVectorizer(max_df=0.95, min_df=2, stop_words='english')\n",
    "doc_term_matrix = vectorizer.fit_transform(processed_docs)\n",
    "\n",
    "lda = LatentDirichletAllocation(n_components=10, random_state=0)\n",
    "lda.fit(doc_term_matrix)\n",
    "\n",
    "for i, topic in enumerate(lda.components_):\n",
    "    print(f\"Topic {i+1}:\")\n",
    "    print(\" \".join([vectorizer.get_feature_names_out()[index] for index in topic.argsort()[-10:]]))"
   ]
  },
  {
   "cell_type": "markdown",
   "id": "c9d0b6c6",
   "metadata": {},
   "source": [
    "### Medium Link\n",
    "https://medium.com/@kenny_39527/an-overview-of-lda-and-wordcloud-analysis-of-python-tutorials-on-w3schools-13763d25fa3a"
   ]
  },
  {
   "cell_type": "code",
   "execution_count": null,
   "id": "61b1366b",
   "metadata": {},
   "outputs": [],
   "source": []
  }
 ],
 "metadata": {
  "kernelspec": {
   "display_name": "Python 3 (ipykernel)",
   "language": "python",
   "name": "python3"
  },
  "language_info": {
   "codemirror_mode": {
    "name": "ipython",
    "version": 3
   },
   "file_extension": ".py",
   "mimetype": "text/x-python",
   "name": "python",
   "nbconvert_exporter": "python",
   "pygments_lexer": "ipython3",
   "version": "3.10.13"
  }
 },
 "nbformat": 4,
 "nbformat_minor": 5
}
