{
 "cells": [
  {
   "cell_type": "markdown",
   "id": "0a09781e",
   "metadata": {},
   "source": [
    "## Please read the README.md First"
   ]
  },
  {
   "cell_type": "markdown",
   "id": "e4f1f2dd",
   "metadata": {},
   "source": [
    "## You need to prepare:\n",
    "* one csv file from DB_HW3_v1, DB_HW3_v2, or DB_HW3_v3\n",
    "* one API KEY from Hugging Face\n",
    "* the row number (aka the model that you want to use)\n",
    "* the problem you want to ask\n",
    "##### Keep clicking 'Run' to execute the code and view the result.\n",
    "##### The output will be displayed at the bottom of this file."
   ]
  },
  {
   "cell_type": "code",
   "execution_count": 67,
   "id": "91bbfc26",
   "metadata": {},
   "outputs": [],
   "source": [
    "#input necessary information here!\n",
    "\n",
    "API_KEY = 'Please enter your API key here!'\n",
    "ROW_NUMBER = 5\n",
    "problem = 'Please enter your problem here!'"
   ]
  },
  {
   "cell_type": "code",
   "execution_count": null,
   "id": "d390838c",
   "metadata": {},
   "outputs": [],
   "source": [
    "import pandas as pd\n",
    "data = pd.read_csv('LLMs_page_1_only.csv')\n",
    "data"
   ]
  },
  {
   "cell_type": "code",
   "execution_count": 63,
   "id": "92423fef",
   "metadata": {},
   "outputs": [],
   "source": [
    "url = data.loc[ROW_NUMBER, 'API URL']"
   ]
  },
  {
   "cell_type": "code",
   "execution_count": 64,
   "id": "11e50800",
   "metadata": {},
   "outputs": [],
   "source": [
    "import json\n",
    "headers_str = '{\"Authorization\": \"Bearer %s\"}' % API_KEY\n",
    "headers_str = json.loads(headers_str)"
   ]
  },
  {
   "cell_type": "code",
   "execution_count": 65,
   "id": "cdd9a499",
   "metadata": {},
   "outputs": [],
   "source": [
    "import requests\n",
    "\n",
    "API_URL = url\n",
    "headers = headers_str\n",
    "\n",
    "def query(payload):\n",
    "\tresponse = requests.post(API_URL, headers=headers, json=payload)\n",
    "\treturn response.json()\n",
    "\t\n",
    "output = query({\n",
    "\t\"inputs\": problem,\n",
    "})"
   ]
  },
  {
   "cell_type": "code",
   "execution_count": null,
   "id": "511fa397",
   "metadata": {},
   "outputs": [],
   "source": [
    "output"
   ]
  },
  {
   "cell_type": "code",
   "execution_count": null,
   "id": "29063ac8",
   "metadata": {},
   "outputs": [],
   "source": []
  }
 ],
 "metadata": {
  "kernelspec": {
   "display_name": "Python 3 (ipykernel)",
   "language": "python",
   "name": "python3"
  },
  "language_info": {
   "codemirror_mode": {
    "name": "ipython",
    "version": 3
   },
   "file_extension": ".py",
   "mimetype": "text/x-python",
   "name": "python",
   "nbconvert_exporter": "python",
   "pygments_lexer": "ipython3",
   "version": "3.10.9"
  }
 },
 "nbformat": 4,
 "nbformat_minor": 5
}
