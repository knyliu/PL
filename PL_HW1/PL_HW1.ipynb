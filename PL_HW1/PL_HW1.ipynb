{
 "cells": [
  {
   "cell_type": "markdown",
   "id": "d683a297",
   "metadata": {},
   "source": [
    "# 2023與2022QS排名比較與分析"
   ]
  },
  {
   "cell_type": "markdown",
   "id": "51d234d8",
   "metadata": {},
   "source": [
    "0. （純粹好奇）師大在2022與2023的排名比較？\n",
    "1. 哪些國家在2023年從100名外進入100內？哪些國家在2023年從100名內進入100外？及其它子問題。\n",
    "2. In 2022, 根據region, 100名內學校在各個region的比例是多少？\n",
    "3. In 2022, 在每一個region，有多少%的大學可以進入前100名？\n",
    "4. 把兩年皆在百名內的學校，放到同一個table，顯示校名、2022排名、2023排名\n",
    "\n",
    "#### For The Future\n",
    "* 列出2023是進步的學校、是退步的學校\n",
    "* 分析進步的學校、退步的學校來自哪個region的比例最高\n",
    "* 進步學校數 VS 退步學校數"
   ]
  },
  {
   "cell_type": "code",
   "execution_count": 1,
   "id": "96b5099e",
   "metadata": {},
   "outputs": [],
   "source": [
    "import pandas as pd"
   ]
  },
  {
   "cell_type": "markdown",
   "id": "ea5589ec",
   "metadata": {},
   "source": [
    "## 取得資料"
   ]
  },
  {
   "cell_type": "code",
   "execution_count": 9,
   "id": "ad9a3ab7",
   "metadata": {},
   "outputs": [
    {
     "data": {
      "text/html": [
       "<div>\n",
       "<style scoped>\n",
       "    .dataframe tbody tr th:only-of-type {\n",
       "        vertical-align: middle;\n",
       "    }\n",
       "\n",
       "    .dataframe tbody tr th {\n",
       "        vertical-align: top;\n",
       "    }\n",
       "\n",
       "    .dataframe thead th {\n",
       "        text-align: right;\n",
       "    }\n",
       "</style>\n",
       "<table border=\"1\" class=\"dataframe\">\n",
       "  <thead>\n",
       "    <tr style=\"text-align: right;\">\n",
       "      <th></th>\n",
       "      <th>Rank</th>\n",
       "      <th>Institution</th>\n",
       "      <th>LocationCode</th>\n",
       "      <th>Location</th>\n",
       "      <th>ArScore</th>\n",
       "      <th>ArRank</th>\n",
       "      <th>ErScore</th>\n",
       "      <th>ErRank</th>\n",
       "      <th>FsrScore</th>\n",
       "      <th>FsrRank</th>\n",
       "      <th>...</th>\n",
       "      <th>CpfRank</th>\n",
       "      <th>IfrScore</th>\n",
       "      <th>IfrRank</th>\n",
       "      <th>IsrScore</th>\n",
       "      <th>IsrRank</th>\n",
       "      <th>IrnScore</th>\n",
       "      <th>IrnRank</th>\n",
       "      <th>GerScore</th>\n",
       "      <th>GerRank</th>\n",
       "      <th>ScoreScaled</th>\n",
       "    </tr>\n",
       "  </thead>\n",
       "  <tbody>\n",
       "    <tr>\n",
       "      <th>0</th>\n",
       "      <td>1</td>\n",
       "      <td>Massachusetts Institute of Technology (MIT)</td>\n",
       "      <td>US</td>\n",
       "      <td>United States</td>\n",
       "      <td>100.0</td>\n",
       "      <td>5</td>\n",
       "      <td>100.0</td>\n",
       "      <td>4</td>\n",
       "      <td>100.0</td>\n",
       "      <td>14</td>\n",
       "      <td>...</td>\n",
       "      <td>5</td>\n",
       "      <td>100.0</td>\n",
       "      <td>54</td>\n",
       "      <td>90.0</td>\n",
       "      <td>109</td>\n",
       "      <td>96.1</td>\n",
       "      <td>58</td>\n",
       "      <td>100.0</td>\n",
       "      <td>3</td>\n",
       "      <td>100</td>\n",
       "    </tr>\n",
       "    <tr>\n",
       "      <th>1</th>\n",
       "      <td>2</td>\n",
       "      <td>University of Cambridge</td>\n",
       "      <td>UK</td>\n",
       "      <td>United Kingdom</td>\n",
       "      <td>100.0</td>\n",
       "      <td>2</td>\n",
       "      <td>100.0</td>\n",
       "      <td>2</td>\n",
       "      <td>100.0</td>\n",
       "      <td>11</td>\n",
       "      <td>...</td>\n",
       "      <td>55</td>\n",
       "      <td>100.0</td>\n",
       "      <td>60</td>\n",
       "      <td>96.3</td>\n",
       "      <td>70</td>\n",
       "      <td>99.5</td>\n",
       "      <td>6</td>\n",
       "      <td>100.0</td>\n",
       "      <td>9</td>\n",
       "      <td>98.8</td>\n",
       "    </tr>\n",
       "    <tr>\n",
       "      <th>2</th>\n",
       "      <td>3</td>\n",
       "      <td>Stanford University</td>\n",
       "      <td>US</td>\n",
       "      <td>United States</td>\n",
       "      <td>100.0</td>\n",
       "      <td>4</td>\n",
       "      <td>100.0</td>\n",
       "      <td>5</td>\n",
       "      <td>100.0</td>\n",
       "      <td>6</td>\n",
       "      <td>...</td>\n",
       "      <td>9</td>\n",
       "      <td>99.8</td>\n",
       "      <td>74</td>\n",
       "      <td>60.3</td>\n",
       "      <td>235</td>\n",
       "      <td>96.3</td>\n",
       "      <td>55</td>\n",
       "      <td>100.0</td>\n",
       "      <td>2</td>\n",
       "      <td>98.5</td>\n",
       "    </tr>\n",
       "    <tr>\n",
       "      <th>3</th>\n",
       "      <td>4</td>\n",
       "      <td>University of Oxford</td>\n",
       "      <td>UK</td>\n",
       "      <td>United Kingdom</td>\n",
       "      <td>100.0</td>\n",
       "      <td>3</td>\n",
       "      <td>100.0</td>\n",
       "      <td>3</td>\n",
       "      <td>100.0</td>\n",
       "      <td>8</td>\n",
       "      <td>...</td>\n",
       "      <td>64</td>\n",
       "      <td>98.8</td>\n",
       "      <td>101</td>\n",
       "      <td>98.4</td>\n",
       "      <td>54</td>\n",
       "      <td>99.9</td>\n",
       "      <td>3</td>\n",
       "      <td>100.0</td>\n",
       "      <td>7</td>\n",
       "      <td>98.4</td>\n",
       "    </tr>\n",
       "    <tr>\n",
       "      <th>4</th>\n",
       "      <td>5</td>\n",
       "      <td>Harvard University</td>\n",
       "      <td>US</td>\n",
       "      <td>United States</td>\n",
       "      <td>100.0</td>\n",
       "      <td>1</td>\n",
       "      <td>100.0</td>\n",
       "      <td>1</td>\n",
       "      <td>99.4</td>\n",
       "      <td>35</td>\n",
       "      <td>...</td>\n",
       "      <td>2</td>\n",
       "      <td>76.9</td>\n",
       "      <td>228</td>\n",
       "      <td>66.9</td>\n",
       "      <td>212</td>\n",
       "      <td>100.0</td>\n",
       "      <td>1</td>\n",
       "      <td>100.0</td>\n",
       "      <td>1</td>\n",
       "      <td>97.6</td>\n",
       "    </tr>\n",
       "  </tbody>\n",
       "</table>\n",
       "<p>5 rows × 21 columns</p>\n",
       "</div>"
      ],
      "text/plain": [
       "   Rank                                   Institution LocationCode  \\\n",
       "0     1  Massachusetts Institute of Technology (MIT)            US   \n",
       "1     2                       University of Cambridge           UK   \n",
       "2     3                           Stanford University           US   \n",
       "3     4                          University of Oxford           UK   \n",
       "4     5                            Harvard University           US   \n",
       "\n",
       "         Location  ArScore ArRank  ErScore ErRank  FsrScore FsrRank  ...  \\\n",
       "0   United States    100.0      5    100.0      4     100.0      14  ...   \n",
       "1  United Kingdom    100.0      2    100.0      2     100.0      11  ...   \n",
       "2   United States    100.0      4    100.0      5     100.0       6  ...   \n",
       "3  United Kingdom    100.0      3    100.0      3     100.0       8  ...   \n",
       "4   United States    100.0      1    100.0      1      99.4      35  ...   \n",
       "\n",
       "   CpfRank IfrScore  IfrRank IsrScore  IsrRank IrnScore  IrnRank GerScore  \\\n",
       "0        5    100.0       54     90.0      109     96.1       58    100.0   \n",
       "1       55    100.0       60     96.3       70     99.5        6    100.0   \n",
       "2        9     99.8       74     60.3      235     96.3       55    100.0   \n",
       "3       64     98.8      101     98.4       54     99.9        3    100.0   \n",
       "4        2     76.9      228     66.9      212    100.0        1    100.0   \n",
       "\n",
       "   GerRank ScoreScaled  \n",
       "0        3         100  \n",
       "1        9        98.8  \n",
       "2        2        98.5  \n",
       "3        7        98.4  \n",
       "4        1        97.6  \n",
       "\n",
       "[5 rows x 21 columns]"
      ]
     },
     "execution_count": 9,
     "metadata": {},
     "output_type": "execute_result"
    }
   ],
   "source": [
    "# 2023\n",
    "# 使用 pandas 的 read_csv 函式讀取 CSV 檔案並將其轉換為 DataFrame\n",
    "df_2023 = pd.read_csv('2023_r.csv')\n",
    "df_2023.head()"
   ]
  },
  {
   "cell_type": "code",
   "execution_count": 8,
   "id": "c2c1584a",
   "metadata": {},
   "outputs": [
    {
     "data": {
      "text/html": [
       "<div>\n",
       "<style scoped>\n",
       "    .dataframe tbody tr th:only-of-type {\n",
       "        vertical-align: middle;\n",
       "    }\n",
       "\n",
       "    .dataframe tbody tr th {\n",
       "        vertical-align: top;\n",
       "    }\n",
       "\n",
       "    .dataframe thead th {\n",
       "        text-align: right;\n",
       "    }\n",
       "</style>\n",
       "<table border=\"1\" class=\"dataframe\">\n",
       "  <thead>\n",
       "    <tr style=\"text-align: right;\">\n",
       "      <th></th>\n",
       "      <th>year</th>\n",
       "      <th>rank_display</th>\n",
       "      <th>university</th>\n",
       "      <th>score</th>\n",
       "      <th>link</th>\n",
       "      <th>country</th>\n",
       "      <th>city</th>\n",
       "      <th>region</th>\n",
       "      <th>logo</th>\n",
       "    </tr>\n",
       "  </thead>\n",
       "  <tbody>\n",
       "    <tr>\n",
       "      <th>0</th>\n",
       "      <td>2022</td>\n",
       "      <td>1</td>\n",
       "      <td>Massachusetts Institute of Technology (MIT)</td>\n",
       "      <td>100.0</td>\n",
       "      <td>https://www.topuniversities.com/universities/m...</td>\n",
       "      <td>United States</td>\n",
       "      <td>Cambridge</td>\n",
       "      <td>North America</td>\n",
       "      <td>https://www.topuniversities.com/sites/default/...</td>\n",
       "    </tr>\n",
       "    <tr>\n",
       "      <th>1</th>\n",
       "      <td>2022</td>\n",
       "      <td>2</td>\n",
       "      <td>University of Oxford</td>\n",
       "      <td>99.5</td>\n",
       "      <td>https://www.topuniversities.com/universities/u...</td>\n",
       "      <td>United Kingdom</td>\n",
       "      <td>Oxford</td>\n",
       "      <td>Europe</td>\n",
       "      <td>https://www.topuniversities.com/sites/default/...</td>\n",
       "    </tr>\n",
       "    <tr>\n",
       "      <th>2</th>\n",
       "      <td>2022</td>\n",
       "      <td>=3</td>\n",
       "      <td>Stanford University</td>\n",
       "      <td>98.7</td>\n",
       "      <td>https://www.topuniversities.com/universities/s...</td>\n",
       "      <td>United States</td>\n",
       "      <td>Stanford</td>\n",
       "      <td>North America</td>\n",
       "      <td>https://www.topuniversities.com/sites/default/...</td>\n",
       "    </tr>\n",
       "    <tr>\n",
       "      <th>3</th>\n",
       "      <td>2022</td>\n",
       "      <td>=3</td>\n",
       "      <td>University of Cambridge</td>\n",
       "      <td>98.7</td>\n",
       "      <td>https://www.topuniversities.com/universities/u...</td>\n",
       "      <td>United Kingdom</td>\n",
       "      <td>Cambridge</td>\n",
       "      <td>Europe</td>\n",
       "      <td>https://www.topuniversities.com/sites/default/...</td>\n",
       "    </tr>\n",
       "    <tr>\n",
       "      <th>4</th>\n",
       "      <td>2022</td>\n",
       "      <td>5</td>\n",
       "      <td>Harvard University</td>\n",
       "      <td>98.0</td>\n",
       "      <td>https://www.topuniversities.com/universities/h...</td>\n",
       "      <td>United States</td>\n",
       "      <td>Cambridge</td>\n",
       "      <td>North America</td>\n",
       "      <td>https://www.topuniversities.com/sites/default/...</td>\n",
       "    </tr>\n",
       "  </tbody>\n",
       "</table>\n",
       "</div>"
      ],
      "text/plain": [
       "   year rank_display                                    university  score  \\\n",
       "0  2022            1  Massachusetts Institute of Technology (MIT)   100.0   \n",
       "1  2022            2                          University of Oxford   99.5   \n",
       "2  2022           =3                           Stanford University   98.7   \n",
       "3  2022           =3                       University of Cambridge   98.7   \n",
       "4  2022            5                            Harvard University   98.0   \n",
       "\n",
       "                                                link         country  \\\n",
       "0  https://www.topuniversities.com/universities/m...   United States   \n",
       "1  https://www.topuniversities.com/universities/u...  United Kingdom   \n",
       "2  https://www.topuniversities.com/universities/s...   United States   \n",
       "3  https://www.topuniversities.com/universities/u...  United Kingdom   \n",
       "4  https://www.topuniversities.com/universities/h...   United States   \n",
       "\n",
       "        city         region                                               logo  \n",
       "0  Cambridge  North America  https://www.topuniversities.com/sites/default/...  \n",
       "1     Oxford         Europe  https://www.topuniversities.com/sites/default/...  \n",
       "2   Stanford  North America  https://www.topuniversities.com/sites/default/...  \n",
       "3  Cambridge         Europe  https://www.topuniversities.com/sites/default/...  \n",
       "4  Cambridge  North America  https://www.topuniversities.com/sites/default/...  "
      ]
     },
     "execution_count": 8,
     "metadata": {},
     "output_type": "execute_result"
    }
   ],
   "source": [
    "# 2022\n",
    "# 使用 pandas 的 read_csv 函式讀取 CSV 檔案並將其轉換為 DataFrame\n",
    "df_2022 = pd.read_csv('2022_r.csv')\n",
    "df_2022.head()"
   ]
  },
  {
   "cell_type": "markdown",
   "id": "95a47425",
   "metadata": {},
   "source": [
    "## 0.（純粹好奇）師大在2022與2023的排名比較？"
   ]
  },
  {
   "cell_type": "code",
   "execution_count": 63,
   "id": "35ed260f",
   "metadata": {},
   "outputs": [
    {
     "name": "stdout",
     "output_type": "stream",
     "text": [
      "331    332\n",
      "Name: Rank, dtype: int64\n"
     ]
    }
   ],
   "source": [
    "# 2023\n",
    "\n",
    "name_to_find = 'National Taiwan Normal University'\n",
    "\n",
    "# 使用條件選擇找到符合條件的行\n",
    "filtered_rows = df_2023[df_2023['Institution'] == name_to_find]\n",
    "\n",
    "# 從符合條件的行中提取Rank的資料\n",
    "result_data = filtered_rows['Rank']\n",
    "\n",
    "# 打印結果\n",
    "print(result_data)"
   ]
  },
  {
   "cell_type": "code",
   "execution_count": 65,
   "id": "953ea339",
   "metadata": {},
   "outputs": [
    {
     "name": "stdout",
     "output_type": "stream",
     "text": [
      "335    =334\n",
      "Name: rank_display, dtype: object\n"
     ]
    }
   ],
   "source": [
    "# 2022\n",
    "\n",
    "# 使用條件選擇找到符合條件的行\n",
    "filtered_rows = df_2022[df_2022['university'] == name_to_find]\n",
    "\n",
    "# 從符合條件的行中提取Rank的資料\n",
    "result_data = filtered_rows['rank_display']\n",
    "\n",
    "# 打印結果\n",
    "print(result_data)"
   ]
  },
  {
   "cell_type": "markdown",
   "id": "6b5362bc",
   "metadata": {},
   "source": [
    "## 1. 哪些國家在2023年從100名外進入100內？哪些國家在2023年從100名內進入100外？及其它子問題。"
   ]
  },
  {
   "cell_type": "code",
   "execution_count": 10,
   "id": "ff8dce21",
   "metadata": {},
   "outputs": [
    {
     "name": "stdout",
     "output_type": "stream",
     "text": [
      "1422\n",
      "1300\n"
     ]
    }
   ],
   "source": [
    "# 從 DataFrame 中取出大學名稱欄位\n",
    "uni_names_2023 = df_2023['Institution']\n",
    "uni_names_2022 = df_2022['university']\n",
    "\n",
    "\n",
    "# 將大學名稱轉換為 set 資料型態\n",
    "uni_names_2023_set = set(uni_names_2023)\n",
    "uni_names_2022_set = set(uni_names_2022)\n",
    "\n",
    "# 取得2023參與QS的總校數\n",
    "#print(uni_names_2023_set)\n",
    "print(len(uni_names_2023_set))\n",
    "\n",
    "# 取得2023參與QS的總校數\n",
    "#print(uni_names_2022_set)\n",
    "print(len(uni_names_2022_set))"
   ]
  },
  {
   "cell_type": "code",
   "execution_count": 12,
   "id": "7de31921",
   "metadata": {},
   "outputs": [
    {
     "name": "stdout",
     "output_type": "stream",
     "text": [
      "25\n",
      "{'Indian Institute of Information Technology, Allahabad', 'MGIMO School of Business and International Proficiency', \"Université Côte d'Azur\", 'Université de Paris', 'Universidad Nacional de Tucumà¡n', 'Universidad Nacional Autónoma de México  (UNAM)', 'S. Toraighyrov Pavlodar State University', 'Universidad de Panamá - UP', 'Universitatea de Vest din Timisoara /  West University of Timisoara', 'Sciences Po', 'National Technical University  \"Kharkiv Polytechnic Institute\"', 'Universidad Nacional Costa Rica', 'Vilnius Gediminas Technical University (VILNIUS TECH)', 'Universität  Leipzig', 'Khalifa University', 'Sungkyunkwan University (SKKU)', 'Ryerson University', \"King Mongkut's Institute of Technology Ladkrabang\", 'Smith College', 'Ulm University', 'Università di Padova', 'Pontificia Universidad Catolica del Peru', 'Bogaziçi Üniversitesi', 'Universidad Autonoma Chapingo', 'Università Cattolica del Sacro Cuore'}\n"
     ]
    }
   ],
   "source": [
    "#2022在，但2023不在 QS名單內的學校 及 數量\n",
    "in22_23out = len(uni_names_2022_set - uni_names_2023_set)\n",
    "\n",
    "print(in22_23out)\n",
    "print(uni_names_2022_set - uni_names_2023_set)"
   ]
  },
  {
   "cell_type": "code",
   "execution_count": 13,
   "id": "a0a019cb",
   "metadata": {},
   "outputs": [
    {
     "name": "stdout",
     "output_type": "stream",
     "text": [
      "147\n",
      "{'Vancouver Island University', 'California State University - Los Angeles', 'St. Louis University', 'Toronto Metropolitan University', 'Humboldt State University', 'Universidad Nacional, Costa Rica', 'Universidad Latinoamericana de Ciencia y Tecnología Costa Rica (ULACIT)', 'Ocean University of China', 'University of South Bohemia', 'Mykolas Romeris University', 'Odessa I.I. Mechnikov National University', 'University of Louisville', 'China University of Mining and Technology', \"Sungshin Women's University\", 'University of Missouri Saint Louis', \"King Mongkut\\\\'s Institute of Technology Ladkrabang\", 'Fundación Universidad De Bogotá-Jorge Tadeo Lozano', 'Universidade do Estado de Santa Catarina', 'Chandigarh University', 'Universidad de Santander - UDES', 'Universidad Popular Autónoma del Estado de Puebla (UPAEP)', 'Khoja Akhmet Yassawi International Kazakh-Turkish University', 'University of Memphis', 'Universidad Michoacana de San Nicolás de Hidalgo', 'Universidade Presbiteriana Mackenzie', 'Universidad Nacional de Tucumán', 'University of Regina', 'Universidad de Caldas', 'Universidade Federal do Parà - UFPA', 'Universidad Autónoma de Aguascalientes', 'Universiti Pendidikan Sultan Idris (UPSI)', 'University of Northern British Columbia', 'Sathyabama Institute of Science and Technology (deemed to be university)', 'Universidad Central de Chile', 'National Institute of Technology Tiruchirappalli', 'Kwansei Gakuin University', 'University of Peshawar', 'Universidad Mayor de San Simón Cochabamba', 'University of Alaska Fairbanks', 'Università\\xa0di Padova', 'Duy Tan University', 'International Islamic University Islamabad (IIU)', 'Shanghai Normal University', 'Zhengzhou University', 'Future University in Egypt', 'CEU Universities', 'Kharkiv National University of Radio Electronics ', 'Universidad del Zulia', 'Jiangnan University', 'Nova Southeastern University', 'CUNY The City College of New York', 'Universidad Nacional Autónoma de México (UNAM)', 'Universidad Autónoma Chapingo', 'Universidad Tecnica Particular De Loja (UPTL)', 'Russian-Armenian (Slavonic) State University', 'University of Central Oklahoma', 'Universitatea de Vest din Timisoara / West University of Timisoara', 'Universidad de Carabobo', 'Sciences Po ', 'Nanjing Agricultural University', 'Universidade Federal de Uberlândia', 'Universidad del Valle de Mexico (UVM)', 'Kyrgyz-Turkish Manas University', 'Universiti Tun Hussein Onn University of Malaysia (UTHM)', 'Universidad Veracruzana', 'Universidade Federal do Rio Grande Do Norte', 'Università\\xa0Cattolica del Sacro Cuore', 'University of Toledo', 'University Ulm', 'Beijing University of Chemical Technology', 'University of Hawaii at Hilo', 'Asia University Taiwan', 'University of Warmia and Mazury in Olsztyn', 'Wesleyan University', 'Sungkyunkwan University(SKKU)', 'University of Madras', 'Rutgers, The State University of New Jersey, Camden', 'Universidad Autónoma de Guadalajara (UAG)', 'University of Alabama, Birmingham', 'Universidad del Magdalena', 'San Francisco State University', 'Pontificia Universidade Católica do Campinas - PUC Campinas', 'University of Dubai', 'Pontificia Universidad Católica del Perú', 'Instituto Tecnológico de Santo Domingo (INTEC)', 'Swarthmore College', 'Khalifa University of Science and Technology', 'Vilnius Gediminas Technical University', 'Universidad Católica de Temuco', 'Central Michigan University', 'Indian Institute of Technology Indore (IIT Indore)', 'Ahlia University', 'Université Paris Cité', 'University of Craiova', 'National University of Life and Environmental Sciences of Ukraine', 'Illinois State University', 'Universidad de San Carlos de Guatemala - USAC', 'Universidad de Panama', 'Poznan University of Life Sciences', 'National Technical University \"Kharkiv Polytechnic Institute\"', 'Universidad de Cuenca', 'Alfaisal University', 'Hohai University', 'Gebze Yüksek Teknoloji Enstitüsü (GYTE)', 'Universität Leipzig', 'Boğaziçi University', 'Colegio de México', 'California Polytechnic State University', 'Cleveland State University', 'Universidad de Las Américas (UDLA) Ecuador', \"Université Côte d\\\\'Azur\", 'Huazhong Agricultural University', 'Northwest Agriculture and Forestry University', 'Universidad Católica de La Santísima Concepción - UCSC', 'Soongsil University', 'Northern Borders University', 'Universidad del Cauca', 'Almaty Technological University', 'Ritsumeikan Asia Pacific University', 'Pontificia Universidade Católica do Minas Gerais - PUC Minas', 'Universidad de Valladolid', 'Nanjing Normal University', 'Pontificia Universidad Catolica Madre y Maestra', 'University of North Carolina at Greensboro', 'Universidad de Tarapaca', 'Donghua University', 'University of Rzeszów', 'Universidad Nacional del Comahue', 'University of Oradea', 'Universidad La Salle (ULSA)', 'China University of Petroleum', 'Erciyes Üniversitesi', 'Indian Institute of Technology (BHU) Varanasi', 'University of Idaho', 'Toraighyrov University', 'University of Primorska', 'Óbuda University', 'MGIMO University', 'Western Washington University', 'University of Pannonia', 'Shoolini University of Biotechnology and Management Sciences', 'Universidad de Piura', 'Ataturk University', 'Universidade Federal do Estado do Rio de Janeiro - UNIRIO', 'Universidad de Oriente Santiago de Cuba', 'California State University Long Beach', 'Universidad de Cartagena'}\n"
     ]
    }
   ],
   "source": [
    "#2023在，但2022不在 QS名單內的學校 及 數量\n",
    "\n",
    "in23_22out = len(uni_names_2023_set - uni_names_2022_set)\n",
    "print(in23_22out)\n",
    "print(uni_names_2023_set - uni_names_2022_set)"
   ]
  },
  {
   "cell_type": "code",
   "execution_count": 14,
   "id": "6d8a99c2",
   "metadata": {},
   "outputs": [
    {
     "name": "stdout",
     "output_type": "stream",
     "text": [
      "122\n",
      "122\n"
     ]
    }
   ],
   "source": [
    "print(len(uni_names_2023_set) - len(uni_names_2022_set))\n",
    "print(in23_22out - in22_23out)"
   ]
  },
  {
   "cell_type": "markdown",
   "id": "45ddf8a8",
   "metadata": {},
   "source": [
    "### 由上述可知資料正確（2023總數減去2022總數 == 2023新增數量 - 2023減少數量）"
   ]
  },
  {
   "cell_type": "markdown",
   "id": "486898d3",
   "metadata": {},
   "source": [
    "## 只取前一百名比較"
   ]
  },
  {
   "cell_type": "code",
   "execution_count": 15,
   "id": "51a3552a",
   "metadata": {},
   "outputs": [],
   "source": [
    "df_2023_100 = df_2023.head(100)\n",
    "df_2022_100 = df_2022.head(100)"
   ]
  },
  {
   "cell_type": "code",
   "execution_count": 16,
   "id": "e0343a55",
   "metadata": {},
   "outputs": [],
   "source": [
    "uni_names_2023_100 = df_2023_100['Institution']\n",
    "uni_names_2022_100 = df_2022_100['university']\n",
    "\n",
    "uni_names_2023_100_set = set(uni_names_2023_100)\n",
    "uni_names_2022_100_set = set(uni_names_2022_100)"
   ]
  },
  {
   "cell_type": "code",
   "execution_count": 17,
   "id": "8b59b007",
   "metadata": {},
   "outputs": [
    {
     "name": "stdout",
     "output_type": "stream",
     "text": [
      "98\n",
      "{'Tohoku University', 'Nanyang Technological University, Singapore (NTU)', 'The London School of Economics and Political Science (LSE)', 'University of Leeds', 'University of Pennsylvania', 'Columbia University', 'The University of Manchester', 'University of Bristol', 'University of Chicago', 'Cornell University', 'California Institute of Technology (Caltech)', 'National University of Singapore (NUS)', 'Fudan University', 'Technical University of Munich', 'University of Wisconsin-Madison', 'University of Washington', 'Yonsei University', 'The Chinese University of Hong Kong (CUHK)', 'Carnegie Mellon University', 'The Hong Kong University of Science and Technology', 'Brown University', \"King's College London\", 'Rice University', 'Seoul National University', 'Lomonosov Moscow State University', 'Zhejiang University', 'University of Michigan-Ann Arbor', 'The University of Queensland', 'Johns Hopkins University', 'Institut Polytechnique de Paris', 'Harvard University', 'Ruprecht-Karls-Universität Heidelberg', 'Duke University', 'Tsinghua University', 'The University of Tokyo', 'City University of Hong Kong', 'Lund University', 'University of British Columbia', 'Pennsylvania State University', 'New York University (NYU)', 'Northwestern University', 'Universidad de Buenos Aires (UBA)', 'The Australian National University', 'University of Southampton', 'University of Toronto', 'Ludwig-Maximilians-Universität München', 'National Taiwan University (NTU)', 'University of Cambridge', 'The University of Auckland', 'Imperial College London', 'The University of New South Wales (UNSW Sydney)', 'Monash University', 'University of Texas at Austin', 'Massachusetts Institute of Technology (MIT) ', 'The University of Hong Kong', 'University of Birmingham', 'Peking University', 'KAIST - Korea Advanced Institute of Science & Technology', 'Universiti Malaya (UM)', 'University of Oxford', 'The University of Sheffield', 'The University of Melbourne', 'KTH Royal Institute of Technology ', 'Princeton University', 'Delft University of Technology', 'Pohang University of Science And Technology (POSTECH)', 'University of Illinois at Urbana-Champaign', 'University of California, Berkeley (UCB)', 'KU Leuven', 'The University of Western Australia', 'EPFL', 'The University of Edinburgh', 'University of Zurich', 'University of California, San Diego (UCSD)', 'Tokyo Institute of Technology (Tokyo Tech)', 'University of Glasgow', 'Durham University', 'University of California, Los Angeles (UCLA)', 'Osaka University', 'University of Amsterdam', 'Yale University', 'Kyoto University', 'UCL', 'Université Paris-Saclay', 'Université PSL', 'University of Science and Technology of China', 'The University of Warwick', 'Sorbonne University', 'ETH Zurich - Swiss Federal Institute of Technology', 'The Hong Kong Polytechnic University', 'Shanghai Jiao Tong University', 'The University of Sydney', 'Stanford University', 'Georgia Institute of Technology', 'McGill University', 'University of St Andrews', 'Korea University', 'University of Copenhagen'}\n"
     ]
    }
   ],
   "source": [
    "#2023、2022皆在QS名單100名內的學校 及 數量\n",
    "print(len(uni_names_2023_100_set & uni_names_2022_100_set))\n",
    "print(uni_names_2023_100_set & uni_names_2022_100_set)"
   ]
  },
  {
   "cell_type": "code",
   "execution_count": 18,
   "id": "795b4d1b",
   "metadata": {},
   "outputs": [
    {
     "name": "stdout",
     "output_type": "stream",
     "text": [
      "100\n",
      "100\n"
     ]
    }
   ],
   "source": [
    "print(len(uni_names_2022_100_set))\n",
    "print(len(uni_names_2023_100_set))"
   ]
  },
  {
   "cell_type": "code",
   "execution_count": 19,
   "id": "747e4ffa",
   "metadata": {},
   "outputs": [
    {
     "name": "stdout",
     "output_type": "stream",
     "text": [
      "2\n",
      "{'Technical University of Denmark', 'Sungkyunkwan University (SKKU)'}\n"
     ]
    }
   ],
   "source": [
    "#2022在，但2023不在 QS名單100名內的學校 及 數量\n",
    "print(len(uni_names_2022_100_set - uni_names_2023_100_set))\n",
    "print(uni_names_2022_100_set - uni_names_2023_100_set)"
   ]
  },
  {
   "cell_type": "code",
   "execution_count": 20,
   "id": "c850cdfd",
   "metadata": {},
   "outputs": [
    {
     "name": "stdout",
     "output_type": "stream",
     "text": [
      "2\n",
      "{'Trinity College Dublin, The University of Dublin', 'Sungkyunkwan University(SKKU)'}\n"
     ]
    }
   ],
   "source": [
    "#2023在，但2022不在 QS名單100內的學校 及 數量\n",
    "print(len(uni_names_2023_100_set - uni_names_2022_100_set))\n",
    "print(uni_names_2023_100_set - uni_names_2022_100_set)"
   ]
  },
  {
   "cell_type": "markdown",
   "id": "301a7e05",
   "metadata": {},
   "source": [
    "#### 出現問題：名單及數量不符合邏輯\n",
    "\n",
    "* 使用以下方式來處理格式一致性和拼寫正確性\n",
    "    * 格式一致性：確保您的 uni_names_2022_100_set 和 uni_names_2023_100_set 中的學校名稱具有一致的格式，包括大小寫和空格。您可以使用字串操作來標準化名稱的格式，以確保比較準確。\n",
    "    * 拼寫正確性：檢查學校名稱的拼寫是否完全相同。拼寫不一致可能會導致比較失敗。您可以使用字典或模糊匹配算法來處理拼寫不一致的情況。"
   ]
  },
  {
   "cell_type": "code",
   "execution_count": 21,
   "id": "47b99b96",
   "metadata": {},
   "outputs": [
    {
     "name": "stdout",
     "output_type": "stream",
     "text": [
      "{'technical university of denmark', 'sungkyunkwan university (skku)'}\n",
      "{'sungkyunkwan university(skku)', 'trinity college dublin, the university of dublin'}\n"
     ]
    }
   ],
   "source": [
    "# 將學校名稱轉為小寫並去除空格\n",
    "uni_names_2022_100_set = {name.strip().lower() for name in uni_names_2022_100_set}\n",
    "uni_names_2023_100_set = {name.strip().lower() for name in uni_names_2023_100_set}\n",
    "\n",
    "# 找到2022在，但2023不在 QS名單100名內的學校\n",
    "not_in_2023 = uni_names_2022_100_set - uni_names_2023_100_set\n",
    "\n",
    "# 找到2023在，但2022不在 QS名單100內的學校\n",
    "not_in_2022 = uni_names_2023_100_set - uni_names_2022_100_set\n",
    "\n",
    "print(not_in_2023)\n",
    "print(not_in_2022)"
   ]
  },
  {
   "cell_type": "markdown",
   "id": "d6dab53b",
   "metadata": {},
   "source": [
    "#### 出現問題：名單及數量仍然不符合邏輯\n",
    "\n",
    "* 將學校名稱轉為小寫，同時移除括號"
   ]
  },
  {
   "cell_type": "code",
   "execution_count": 23,
   "id": "3199e8a1",
   "metadata": {},
   "outputs": [
    {
     "name": "stdout",
     "output_type": "stream",
     "text": [
      "{'technical university of denmark', 'sungkyunkwan university skku'}\n",
      "{'sungkyunkwan universityskku', 'trinity college dublin, the university of dublin'}\n"
     ]
    }
   ],
   "source": [
    "# 將學校名稱轉為小寫，同時移除括號\n",
    "def normalize_name(name):\n",
    "    name = name.lower()\n",
    "    name = name.replace('(', '').replace(')', '').strip()\n",
    "    return name\n",
    "\n",
    "uni_names_2022_100_set = {normalize_name(name) for name in uni_names_2022_100_set}\n",
    "uni_names_2023_100_set = {normalize_name(name) for name in uni_names_2023_100_set}\n",
    "\n",
    "# 找到2022在，但2023不在 QS名單100名內的學校\n",
    "not_in_2023 = uni_names_2022_100_set - uni_names_2023_100_set\n",
    "\n",
    "# 找到2023在，但2022不在 QS名單100內的學校\n",
    "not_in_2022 = uni_names_2023_100_set - uni_names_2022_100_set\n",
    "\n",
    "print(not_in_2023)\n",
    "print(not_in_2022)\n"
   ]
  },
  {
   "cell_type": "markdown",
   "id": "1786cbe5",
   "metadata": {},
   "source": [
    "#### 處理sungkyunkwan university skku 和 sungkyunkwan universityskku 的問題"
   ]
  },
  {
   "cell_type": "code",
   "execution_count": 24,
   "id": "667ef3b1",
   "metadata": {},
   "outputs": [
    {
     "name": "stdout",
     "output_type": "stream",
     "text": [
      "{'technicaluniversityofdenmark'}\n",
      "{'trinitycollegedublin,theuniversityofdublin'}\n"
     ]
    }
   ],
   "source": [
    "# 將學校名稱轉為小寫，同時移除空格和連接字元\n",
    "def normalize_name(name):\n",
    "    name = name.lower()\n",
    "    name = name.replace(' ', '').replace('-', '').strip()\n",
    "    return name\n",
    "\n",
    "uni_names_2022_100_set = {normalize_name(name) for name in uni_names_2022_100_set}\n",
    "uni_names_2023_100_set = {normalize_name(name) for name in uni_names_2023_100_set}\n",
    "\n",
    "# 找到2022在，但2023不在 QS名單100名內的學校\n",
    "not_in_2023 = uni_names_2022_100_set - uni_names_2023_100_set\n",
    "\n",
    "# 找到2023在，但2022不在 QS名單100內的學校\n",
    "not_in_2022 = uni_names_2023_100_set - uni_names_2022_100_set\n",
    "\n",
    "print(not_in_2023)\n",
    "print(not_in_2022)\n"
   ]
  },
  {
   "cell_type": "markdown",
   "id": "438d47cc",
   "metadata": {},
   "source": [
    "#### 重新檢查"
   ]
  },
  {
   "cell_type": "code",
   "execution_count": 26,
   "id": "426c159e",
   "metadata": {},
   "outputs": [
    {
     "name": "stdout",
     "output_type": "stream",
     "text": [
      "1\n",
      "{'technicaluniversityofdenmark'}\n"
     ]
    }
   ],
   "source": [
    "#2022在，但2023不在 QS名單100名內的學校 及 數量\n",
    "print(len(uni_names_2022_100_set - uni_names_2023_100_set))\n",
    "print(uni_names_2022_100_set - uni_names_2023_100_set)"
   ]
  },
  {
   "cell_type": "code",
   "execution_count": 32,
   "id": "b7c34383",
   "metadata": {},
   "outputs": [
    {
     "name": "stdout",
     "output_type": "stream",
     "text": [
      "1\n",
      "{'trinitycollegedublin,theuniversityofdublin'}\n"
     ]
    }
   ],
   "source": [
    "#2023在，但2022不在 QS名單100內的學校 及 數量\n",
    "print(len(uni_names_2023_100_set - uni_names_2022_100_set))\n",
    "print(uni_names_2023_100_set - uni_names_2022_100_set)"
   ]
  },
  {
   "cell_type": "code",
   "execution_count": 33,
   "id": "d8fe1bfd",
   "metadata": {},
   "outputs": [
    {
     "name": "stdout",
     "output_type": "stream",
     "text": [
      "99\n",
      "{'universitépsl', 'ethzurichswissfederalinstituteoftechnology', 'nationaltaiwanuniversityntu', 'theuniversityofhongkong', 'universityofzurich', 'universityofbirmingham', 'columbiauniversity', 'kthroyalinstituteoftechnology', 'shanghaijiaotonguniversity', 'stanforduniversity', 'carnegiemellonuniversity', 'universityofscienceandtechnologyofchina', 'nanyangtechnologicaluniversity,singaporentu', 'universityofchicago', 'epfl', 'universityoftoronto', 'universityofillinoisaturbanachampaign', 'dukeuniversity', 'harvarduniversity', 'fudanuniversity', 'californiainstituteoftechnologycaltech', 'universityofcalifornia,sandiegoucsd', 'universityofmichiganannarbor', 'monashuniversity', 'universitéparissaclay', 'seoulnationaluniversity', 'technicaluniversityofmunich', 'imperialcollegelondon', 'theuniversityofmelbourne', 'universidaddebuenosairesuba', 'lunduniversity', 'sungkyunkwanuniversityskku', 'universityofcalifornia,berkeleyucb', 'cornelluniversity', 'universityofpennsylvania', 'northwesternuniversity', 'theuniversityofsydney', 'newyorkuniversitynyu', 'johnshopkinsuniversity', 'koreauniversity', 'tokyoinstituteoftechnologytokyotech', 'ucl', 'riceuniversity', 'universityofleeds', 'lomonosovmoscowstateuniversity', 'mcgilluniversity', 'georgiainstituteoftechnology', 'theuniversityofmanchester', 'theuniversityofwesternaustralia', 'yaleuniversity', 'pohanguniversityofscienceandtechnologypostech', 'theuniversityofauckland', 'universityofsouthampton', 'kyotouniversity', 'thehongkonguniversityofscienceandtechnology', 'universityofcalifornia,losangelesucla', 'theuniversityofwarwick', 'massachusettsinstituteoftechnologymit', 'delftuniversityoftechnology', 'universityofbristol', 'princetonuniversity', 'universityofcambridge', 'theuniversityofqueensland', 'universityoftexasataustin', 'osakauniversity', 'institutpolytechniquedeparis', 'ludwigmaximiliansuniversitätmünchen', 'universityofwashington', 'tsinghuauniversity', 'universityofstandrews', 'universityofwisconsinmadison', 'thelondonschoolofeconomicsandpoliticalsciencelse', 'ruprechtkarlsuniversitätheidelberg', 'theuniversityoftokyo', 'thechineseuniversityofhongkongcuhk', 'universityofamsterdam', 'tohokuuniversity', 'theuniversityofsheffield', 'universityofcopenhagen', 'universityofglasgow', 'theuniversityofedinburgh', 'brownuniversity', 'pekinguniversity', 'durhamuniversity', 'zhejianguniversity', 'pennsylvaniastateuniversity', 'nationaluniversityofsingaporenus', \"king'scollegelondon\", 'theaustraliannationaluniversity', 'thehongkongpolytechnicuniversity', 'sorbonneuniversity', 'universityofbritishcolumbia', 'universitimalayaum', 'kaistkoreaadvancedinstituteofscience&technology', 'universityofoxford', 'cityuniversityofhongkong', 'theuniversityofnewsouthwalesunswsydney', 'yonseiuniversity', 'kuleuven'}\n"
     ]
    }
   ],
   "source": [
    "#2023、2022皆在QS名單100名內的學校 及 數量\n",
    "print(len(uni_names_2023_100_set & uni_names_2022_100_set))\n",
    "print(uni_names_2023_100_set & uni_names_2022_100_set)"
   ]
  },
  {
   "cell_type": "markdown",
   "id": "46e6d7e2",
   "metadata": {},
   "source": [
    "## 2. In 2022, 根據region, 100名內學校在各個region的比例是多少？"
   ]
  },
  {
   "cell_type": "code",
   "execution_count": 36,
   "id": "03458e57",
   "metadata": {},
   "outputs": [
    {
     "name": "stdout",
     "output_type": "stream",
     "text": [
      "['North America' 'Europe' 'Asia' 'Oceania' 'Latin America' 'Africa']\n"
     ]
    }
   ],
   "source": [
    "region = df_2022['region'].unique()\n",
    "print(region)"
   ]
  },
  {
   "cell_type": "code",
   "execution_count": 41,
   "id": "898a8aab",
   "metadata": {},
   "outputs": [
    {
     "name": "stdout",
     "output_type": "stream",
     "text": [
      "Europe           468\n",
      "Asia             399\n",
      "North America    205\n",
      "Latin America    151\n",
      "Oceania           46\n",
      "Africa            31\n",
      "Name: region, dtype: int64\n"
     ]
    }
   ],
   "source": [
    "amounts = df_2022['region'].value_counts()\n",
    "print(amounts)"
   ]
  },
  {
   "cell_type": "code",
   "execution_count": 44,
   "id": "f0378d1f",
   "metadata": {},
   "outputs": [
    {
     "name": "stdout",
     "output_type": "stream",
     "text": [
      "Europe           35\n",
      "North America    30\n",
      "Asia             26\n",
      "Oceania           8\n",
      "Latin America     1\n",
      "Name: region, dtype: int64\n"
     ]
    }
   ],
   "source": [
    "amounts_100 = df_2022_100['region'].value_counts()\n",
    "print(amounts_100)"
   ]
  },
  {
   "cell_type": "markdown",
   "id": "fd29952a",
   "metadata": {},
   "source": [
    "#### 確認datatype以將其存成dictionary"
   ]
  },
  {
   "cell_type": "code",
   "execution_count": 50,
   "id": "1e50f2eb",
   "metadata": {},
   "outputs": [
    {
     "name": "stdout",
     "output_type": "stream",
     "text": [
      "<class 'pandas.core.series.Series'>\n"
     ]
    }
   ],
   "source": [
    "print(type(amounts_100))"
   ]
  },
  {
   "cell_type": "code",
   "execution_count": 51,
   "id": "96ebe7ab",
   "metadata": {},
   "outputs": [
    {
     "name": "stdout",
     "output_type": "stream",
     "text": [
      "{'Europe': 468, 'Asia': 399, 'North America': 205, 'Latin America': 151, 'Oceania': 46, 'Africa': 31}\n"
     ]
    }
   ],
   "source": [
    "amounts_dict = amounts.to_dict()\n",
    "print(amounts_dict)"
   ]
  },
  {
   "cell_type": "code",
   "execution_count": 52,
   "id": "e655d954",
   "metadata": {},
   "outputs": [
    {
     "name": "stdout",
     "output_type": "stream",
     "text": [
      "{'Europe': 35, 'North America': 30, 'Asia': 26, 'Oceania': 8, 'Latin America': 1}\n"
     ]
    }
   ],
   "source": [
    "amounts_100_dict = amounts_100.to_dict()\n",
    "print(amounts_100_dict)"
   ]
  },
  {
   "cell_type": "markdown",
   "id": "23253057",
   "metadata": {},
   "source": [
    "## 3. 每個region有多少比例的QS前百大學"
   ]
  },
  {
   "cell_type": "markdown",
   "id": "57f40b50",
   "metadata": {},
   "source": [
    "#### dictionary要記得對key再取value"
   ]
  },
  {
   "cell_type": "code",
   "execution_count": 66,
   "id": "da059797",
   "metadata": {},
   "outputs": [
    {
     "name": "stdout",
     "output_type": "stream",
     "text": [
      "{'Europe': '35/468', 'Asia': '26/399', 'North America': '30/205', 'Latin America': '1/151', 'Oceania': '8/46'}\n"
     ]
    }
   ],
   "source": [
    "ratios = {}\n",
    "\n",
    "# 遍歷第一個字典的鍵值對\n",
    "for key, value1 in amounts_dict.items():\n",
    "    # 檢查第二個字典是否有相同的鍵\n",
    "    if key in amounts_100_dict:\n",
    "        # 計算比例並存儲到新字典中\n",
    "        ratio = f'{amounts_100_dict[key]}/{value1}'\n",
    "        ratios[key] = ratio\n",
    "\n",
    "print(ratios)"
   ]
  },
  {
   "cell_type": "code",
   "execution_count": 67,
   "id": "2a86d8f8",
   "metadata": {},
   "outputs": [
    {
     "name": "stdout",
     "output_type": "stream",
     "text": [
      "{'Europe': 7.478632478632479, 'Asia': 6.516290726817042, 'North America': 14.634146341463413, 'Latin America': 0.6622516556291391, 'Oceania': 17.391304347826086}\n"
     ]
    }
   ],
   "source": [
    "# 創建一個空字典來存儲百分比\n",
    "percentages = {}\n",
    "\n",
    "# 遍歷第一個字典的鍵值對\n",
    "for key, value1 in amounts_dict.items():\n",
    "    # 檢查第二個字典是否有相同的鍵\n",
    "    if key in amounts_100_dict:\n",
    "        # 計算百分比並存儲到新字典中\n",
    "        ratio = (amounts_100_dict[key] / value1) * 100\n",
    "        percentages[key] = ratio\n",
    "\n",
    "print(percentages)"
   ]
  },
  {
   "cell_type": "markdown",
   "id": "2484c6ef",
   "metadata": {},
   "source": [
    "## 4. 把兩年皆在百名內的學校，放到同一個table，顯示校名、2022排名、2023排名"
   ]
  },
  {
   "cell_type": "markdown",
   "id": "d90c0b38",
   "metadata": {},
   "source": [
    "### 確保兩個df的column names一致"
   ]
  },
  {
   "cell_type": "code",
   "execution_count": 111,
   "id": "d0dd6213",
   "metadata": {},
   "outputs": [
    {
     "name": "stdout",
     "output_type": "stream",
     "text": [
      "['year', 'rank_2022', 'university', 'score', 'link', 'country', 'city', 'region', 'logo']\n"
     ]
    }
   ],
   "source": [
    "column_names_2022 = df_2022_100.columns.tolist()\n",
    "print(column_names_2022)"
   ]
  },
  {
   "cell_type": "code",
   "execution_count": 112,
   "id": "56b47063",
   "metadata": {},
   "outputs": [],
   "source": [
    "df_2022_100.columns = ['year', 'rank_2022', 'university', 'score', 'link', 'country', 'city', 'region', 'logo']"
   ]
  },
  {
   "cell_type": "code",
   "execution_count": 113,
   "id": "cb95d118",
   "metadata": {},
   "outputs": [
    {
     "name": "stdout",
     "output_type": "stream",
     "text": [
      "['rank_2023', 'university', 'LocationCode', 'country', 'ArScore', 'ArRank', 'ErScore', 'ErRank', 'FsrScore', 'FsrRank', 'CpfScore', 'CpfRank', 'IfrScore', 'IfrRank', 'IsrScore', 'IsrRank', 'IrnScore', 'IrnRank', 'GerScore', 'GerRank', 'ScoreScaled']\n"
     ]
    }
   ],
   "source": [
    "column_names_2023 = df_2023_100.columns.tolist()\n",
    "print(column_names_2023)"
   ]
  },
  {
   "cell_type": "code",
   "execution_count": 114,
   "id": "c49314dc",
   "metadata": {},
   "outputs": [],
   "source": [
    "df_2023_100.columns = ['rank_2023', 'university', 'LocationCode', 'country', 'ArScore', 'ArRank', 'ErScore', 'ErRank', 'FsrScore', 'FsrRank', 'CpfScore', 'CpfRank', 'IfrScore', 'IfrRank', 'IsrScore', 'IsrRank', 'IrnScore', 'IrnRank', 'GerScore', 'GerRank', 'ScoreScaled']"
   ]
  },
  {
   "cell_type": "code",
   "execution_count": 115,
   "id": "65048478",
   "metadata": {},
   "outputs": [
    {
     "name": "stdout",
     "output_type": "stream",
     "text": [
      "                                       university rank_2022  rank_2023\n",
      "0    Massachusetts Institute of Technology (MIT)          1          1\n",
      "1                            University of Oxford         2          4\n",
      "2                             Stanford University        =3          3\n",
      "3                         University of Cambridge        =3          2\n",
      "4                              Harvard University         5          5\n",
      "..                                            ...       ...        ...\n",
      "93            The University of Western Australia        93         90\n",
      "94                                Rice University        94        100\n",
      "95                    The University of Sheffield        95         96\n",
      "96                  Pennsylvania State University        96         93\n",
      "97  University of Science and Technology of China        98         94\n",
      "\n",
      "[98 rows x 3 columns]\n"
     ]
    }
   ],
   "source": [
    "# 使用merge方法將兩個DataFrame合併\n",
    "merged_df = pd.merge(df_2022_100, df_2023_100, on='university', suffixes=('_2022', '_2023'))\n",
    "\n",
    "# 選擇要顯示的列，包括校名、2022年排名和2023年排名\n",
    "result_df = merged_df[['university', 'rank_2022', 'rank_2023']]\n",
    "\n",
    "print(result_df)"
   ]
  },
  {
   "cell_type": "markdown",
   "id": "e657e1c3",
   "metadata": {},
   "source": [
    "## For The Future"
   ]
  },
  {
   "cell_type": "markdown",
   "id": "5029f838",
   "metadata": {},
   "source": [
    "* 列出2023是進步的學校、是退步的學校\n",
    "* 分析進步的學校、退步的學校來自哪個region的比例最高\n",
    "* 進步學校數 VS 退步學校數"
   ]
  },
  {
   "cell_type": "code",
   "execution_count": null,
   "id": "fc68ac8b",
   "metadata": {},
   "outputs": [],
   "source": []
  }
 ],
 "metadata": {
  "kernelspec": {
   "display_name": "Python 3 (ipykernel)",
   "language": "python",
   "name": "python3"
  },
  "language_info": {
   "codemirror_mode": {
    "name": "ipython",
    "version": 3
   },
   "file_extension": ".py",
   "mimetype": "text/x-python",
   "name": "python",
   "nbconvert_exporter": "python",
   "pygments_lexer": "ipython3",
   "version": "3.10.9"
  }
 },
 "nbformat": 4,
 "nbformat_minor": 5
}
